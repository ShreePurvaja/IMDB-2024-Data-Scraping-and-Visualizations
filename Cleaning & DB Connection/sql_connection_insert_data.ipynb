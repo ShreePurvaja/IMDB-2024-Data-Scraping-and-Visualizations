{
 "cells": [
  {
   "cell_type": "code",
   "execution_count": 1,
   "metadata": {},
   "outputs": [
    {
     "name": "stdout",
     "output_type": "stream",
     "text": [
      "Defaulting to user installation because normal site-packages is not writeable\n",
      "Requirement already satisfied: pandas in c:\\users\\shree\\appdata\\roaming\\python\\python312\\site-packages (2.2.3)\n",
      "Requirement already satisfied: numpy>=1.26.0 in c:\\users\\shree\\appdata\\roaming\\python\\python312\\site-packages (from pandas) (1.26.4)\n",
      "Requirement already satisfied: python-dateutil>=2.8.2 in c:\\users\\shree\\appdata\\roaming\\python\\python312\\site-packages (from pandas) (2.9.0.post0)\n",
      "Requirement already satisfied: pytz>=2020.1 in c:\\users\\shree\\appdata\\roaming\\python\\python312\\site-packages (from pandas) (2024.2)\n",
      "Requirement already satisfied: tzdata>=2022.7 in c:\\users\\shree\\appdata\\roaming\\python\\python312\\site-packages (from pandas) (2025.1)\n",
      "Requirement already satisfied: six>=1.5 in c:\\users\\shree\\appdata\\roaming\\python\\python312\\site-packages (from python-dateutil>=2.8.2->pandas) (1.17.0)\n",
      "Note: you may need to restart the kernel to use updated packages.\n"
     ]
    }
   ],
   "source": [
    "%pip install pandas"
   ]
  },
  {
   "cell_type": "code",
   "execution_count": null,
   "metadata": {},
   "outputs": [],
   "source": [
    "import pandas as pd\n",
    "import os\n",
    "import mysql.connector\n",
    "\n",
    "# Folder path containing the CSV files\n",
    "folder_path = r\"D:\\Guvi Ds\\web scrapping\\movie_scrapped_files\"\n",
    "\n",
    "#  list of all CSV files in the folder \n",
    "csv_files = [os.path.join(folder_path, file) for file in os.listdir(folder_path) if file.endswith(\".csv\")][:6]\n",
    "\n",
    "# Read and merge the data\n",
    "df = pd.concat([pd.read_csv(file) for file in csv_files], ignore_index=True)\n",
    "\n",
    "# Remove duplicates based on \"Title\" column (keep the first occurrence)\n",
    "df.drop_duplicates(subset=[\"Title\"], keep=\"first\", inplace=True)\n",
    "\n",
    "#  Save the cleaned merged data \n",
    "output_file = os.path.join(folder_path, \"merged_cleaned_movies.csv\")\n",
    "df.to_csv(output_file, index=False)\n",
    "\n",
    "print(f\"Merged CSV file saved as: {output_file}\")\n"
   ]
  },
  {
   "cell_type": "code",
   "execution_count": 24,
   "metadata": {},
   "outputs": [
    {
     "name": "stdout",
     "output_type": "stream",
     "text": [
      "Defaulting to user installation because normal site-packages is not writeable\n",
      "Requirement already satisfied: mysql-connector-python in c:\\program files\\python312\\lib\\site-packages (9.2.0)\n",
      "Note: you may need to restart the kernel to use updated packages.\n"
     ]
    }
   ],
   "source": [
    "%pip install mysql-connector-python \n"
   ]
  },
  {
   "cell_type": "code",
   "execution_count": 5,
   "metadata": {},
   "outputs": [
    {
     "name": "stderr",
     "output_type": "stream",
     "text": [
      "<>:15: SyntaxWarning: invalid escape sequence '\\G'\n",
      "<>:15: SyntaxWarning: invalid escape sequence '\\G'\n",
      "C:\\Users\\SHREE\\AppData\\Local\\Temp\\ipykernel_5204\\1962755571.py:15: SyntaxWarning: invalid escape sequence '\\G'\n",
      "  df = pd.read_csv(\"D:\\Guvi Ds\\merged_cleaned_movies.csv\")\n"
     ]
    },
    {
     "name": "stdout",
     "output_type": "stream",
     "text": [
      " Data uploaded successfully!\n"
     ]
    }
   ],
   "source": [
    "import pandas as pd\n",
    "import numpy as np\n",
    "import mysql.connector\n",
    "connection = mysql.connector.connect(\n",
    "  host = \"gateway01.ap-southeast-1.prod.aws.tidbcloud.com\",\n",
    "  port = 4000,\n",
    "  user = \"2yYzWuNLpsRGRUo.root\",\n",
    "  password = \"LziV3VzKcgY6K7lq\",\n",
    "  database = \"movies_database\",\n",
    ")\n",
    "\n",
    "mycursor = connection.cursor(buffered=True)\n",
    "\n",
    "# Read CSV\n",
    "df = pd.read_csv(\"D:\\Guvi Ds\\merged_cleaned_movies.csv\")\n",
    "\n",
    "# Replace NaN values with NULL\n",
    "df = df.replace({np.nan: None})\n",
    "\n",
    "# Insert data into the table\n",
    "for _, row in df.iterrows():\n",
    "    mycursor.execute(\n",
    "        \"INSERT INTO movies_database.movies (Title, Genre, Duration, Rating, Voting) VALUES (%s, %s, %s, %s, %s)\", \n",
    "        (row[\"Title\"], row[\"Genre\"], row[\"Duration\"], row[\"Rating\"], row[\"Voting\"])\n",
    "    )\n",
    "\n",
    "connection.commit()\n",
    "mycursor.close()\n",
    "connection.close()\n",
    "print(\" Data uploaded successfully!\")"
   ]
  }
 ],
 "metadata": {
  "kernelspec": {
   "display_name": "Python 3",
   "language": "python",
   "name": "python3"
  },
  "language_info": {
   "codemirror_mode": {
    "name": "ipython",
    "version": 3
   },
   "file_extension": ".py",
   "mimetype": "text/x-python",
   "name": "python",
   "nbconvert_exporter": "python",
   "pygments_lexer": "ipython3",
   "version": "3.12.8"
  }
 },
 "nbformat": 4,
 "nbformat_minor": 2
}
